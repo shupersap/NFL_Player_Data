{
 "cells": [
  {
   "cell_type": "markdown",
   "id": "7772e20d",
   "metadata": {},
   "source": [
    "### create differing weekly dataframes for each position and each weekly with data for all players\n",
    "\n",
    "### set up to get data for each week, and for each position, reasses data types,make sure all data is still accurate\n",
    "### after all dataframe is set and ordered, transport to a storage system"
   ]
  },
  {
   "cell_type": "code",
   "execution_count": 1,
   "id": "052b5eca",
   "metadata": {},
   "outputs": [],
   "source": [
    "#import libraries\n",
    "from selenium import webdriver\n",
    "from selenium.webdriver.chrome.service import Service\n",
    "from webdriver_manager.chrome import ChromeDriverManager\n",
    "from selenium.webdriver.common.by import By\n",
    "from time import sleep\n",
    "import pandas as pd\n",
    "from concurrent.futures import ThreadPoolExecutor\n",
    "import threading"
   ]
  },
  {
   "cell_type": "code",
   "execution_count": 2,
   "id": "b284b62d",
   "metadata": {},
   "outputs": [],
   "source": [
    "#start driver for Chrome\n",
    "driver = webdriver.Chrome(service=Service(ChromeDriverManager().install()))"
   ]
  },
  {
   "cell_type": "code",
   "execution_count": 3,
   "id": "5c2d6044",
   "metadata": {},
   "outputs": [],
   "source": [
    "#Driver start on fantasy pro site\n",
    "driver.get(\"https://www.fantasypros.com/nfl/stats/qb.php?\")\n",
    "driver.maximize_window()"
   ]
  },
  {
   "cell_type": "code",
   "execution_count": null,
   "id": "8f20c826",
   "metadata": {},
   "outputs": [],
   "source": [
    "#Holds query value of roles\n",
    "NFL_Roles=[\"qb\",\"rb\",\"wr\",\"te\",\"k\",\"dst\",\"dl\",\"lb\",\"db\"]\n",
    "nested_dictionary_frames = {}\n",
    "\n",
    "#start of loop to collect data for all roles in each week seperately\n",
    "for role in NFL_Roles: \n",
    "    # Retrieve headers of the website dataframe\n",
    "    header = driver.find_elements(By.XPATH, \"//tr[@class='tablesorter-header']//th\")\n",
    "    NFL_Labels = [label.text for label in header]\n",
    "    Label_Size = len(NFL_Labels)\n",
    "    df_weeks = []\n",
    "    nested_dictionary_frames[role] = {}\n",
    "    for week in range(1, 12):\n",
    "        gen_data = []\n",
    "        # Retrieval of website \n",
    "        driver.get(f\"https://www.fantasypros.com/nfl/stats/{role}.php?week={week}&range=week&scoring=PPR\")\n",
    "        # Obtain all player data presented\n",
    "        table_data = driver.find_elements(By.XPATH, \"//table[@id='data']//tbody//td\")\n",
    "        #collect all data \n",
    "        for info in table_data:\n",
    "            gen_data.append(info.text)\n",
    "        row_data = [gen_data[x:x + Label_Size] for x in range(0, len(gen_data), Label_Size)]\n",
    "        df_week = pd.DataFrame(row_data, columns=NFL_Labels)\n",
    "        df_week[\"week\"] = week\n",
    "        df_weeks.append(df_week)\n",
    "        \n",
    "    nested_dictionary_frames[role] = df_weeks"
   ]
  },
  {
   "cell_type": "code",
   "execution_count": null,
   "id": "90d32546-4538-4bcd-8367-a8cc48aa18ed",
   "metadata": {},
   "outputs": [],
   "source": [
    "def scrape_nfl_data(start_week, end_week):\n",
    "    #\n",
    "    NFL_Roles=[\"qb\",\"rb\",\"wr\",\"te\",\"k\",\"dst\",\"dl\",\"lb\",\"db\"]\n",
    "    nested_dictionary_frames = {}\n",
    "    for role in NFL_Roles:\n",
    "        driver.get(f\"https://www.fantasypros.com/nfl/stats/{role}.php\")\n",
    "        header = driver.find_elements(By.XPATH, \"//tr[@class='tablesorter-header']//th\")\n",
    "        NFL_Labels = [label.text for label in header]\n",
    "        Label_Size = len(NFL_Labels)\n",
    "        sleep(3)  \n",
    "        df_weeks = []\n",
    "        nested_dictionary_frames[role] = {}\n",
    "        for week in range(start_week, end_week + 1):\n",
    "            gen_data = []\n",
    "            driver.get(f\"https://www.fantasypros.com/nfl/stats/{role}.php?week={week}&range=week&scoring=PPR\")\n",
    "            table_data = driver.find_elements(By.XPATH, \"//table[@id='data']//tbody//td\")\n",
    "            for info in table_data:\n",
    "                gen_data.append(info.text)\n",
    "            row_data = [gen_data[x:x + Label_Size] for x in range(0, len(gen_data), Label_Size)]\n",
    "            df_week = pd.DataFrame(row_data, columns=NFL_Labels)\n",
    "            #df_week[\"TEAM\"] = df_week[\"PLAYER\"].split(\"(\")[0]\n",
    "            df_week[\"WEEK\"] = week\n",
    "            df_weeks.append(df_week)\n",
    "        nested_dictionary_frames[role] = df_weeks\n",
    "        for num_col in range(start_week - 1, end_week):\n",
    "            nested_dictionary_frames[role][num_col].iloc[:, 2:] = nested_dictionary_frames[role][num_col].iloc[:, 2:].apply(pd.to_numeric, errors=\"ignore\", downcast=\"float\")\n",
    "    driver.quit()        \n",
    "    return nested_dictionary_frames "
   ]
  },
  {
   "cell_type": "code",
   "execution_count": null,
   "id": "15013dc9-c1ed-4729-a069-09cdfb2231ae",
   "metadata": {},
   "outputs": [],
   "source": [
    "result=scrape_nfl_data(1,11)"
   ]
  },
  {
   "cell_type": "code",
   "execution_count": null,
   "id": "8d8a6448-f26c-4730-9b88-df2e73b53f78",
   "metadata": {},
   "outputs": [],
   "source": [
    "result[\"db\"][0]"
   ]
  },
  {
   "cell_type": "code",
   "execution_count": 1,
   "id": "38fe1596-f1e3-4282-8df4-b266c3f34f52",
   "metadata": {},
   "outputs": [
    {
     "ename": "NameError",
     "evalue": "name 'result' is not defined",
     "output_type": "error",
     "traceback": [
      "\u001b[1;31m---------------------------------------------------------------------------\u001b[0m",
      "\u001b[1;31mNameError\u001b[0m                                 Traceback (most recent call last)",
      "Input \u001b[1;32mIn [1]\u001b[0m, in \u001b[0;36m<cell line: 1>\u001b[1;34m()\u001b[0m\n\u001b[1;32m----> 1\u001b[0m \u001b[38;5;28;01mfor\u001b[39;00m role, frames_list \u001b[38;5;129;01min\u001b[39;00m \u001b[43mresult\u001b[49m\u001b[38;5;241m.\u001b[39mitems():\n\u001b[0;32m      2\u001b[0m         \u001b[38;5;28;01mfor\u001b[39;00m week, df_week \u001b[38;5;129;01min\u001b[39;00m \u001b[38;5;28menumerate\u001b[39m(frames_list, \u001b[38;5;241m1\u001b[39m):\n\u001b[0;32m      3\u001b[0m             df_week\u001b[38;5;241m.\u001b[39mto_csv(\u001b[38;5;124mf\u001b[39m\u001b[38;5;124m\"\u001b[39m\u001b[38;5;132;01m{\u001b[39;00mrole\u001b[38;5;132;01m}\u001b[39;00m\u001b[38;5;124m_week_\u001b[39m\u001b[38;5;132;01m{\u001b[39;00mweek\u001b[38;5;132;01m}\u001b[39;00m\u001b[38;5;124m.csv\u001b[39m\u001b[38;5;124m\"\u001b[39m, index\u001b[38;5;241m=\u001b[39m\u001b[38;5;28;01mFalse\u001b[39;00m)\n",
      "\u001b[1;31mNameError\u001b[0m: name 'result' is not defined"
     ]
    }
   ],
   "source": [
    "for role, frames_list in result.items():\n",
    "        for week, df_week in enumerate(frames_list, 1):\n",
    "            df_week.to_csv(f\"{role}_week_{week}.csv\", index=False)"
   ]
  },
  {
   "cell_type": "code",
   "execution_count": null,
   "id": "a7767b34-c895-4671-9a47-90d3bac19e31",
   "metadata": {},
   "outputs": [],
   "source": [
    "for role in NFL_Roles:\n",
    "    for given in range(0,11):\n",
    "        nested_dictionary_frames[role][given]=nested_dictionary_frames[role][given].iloc[:,2:].apply(pd.to_numeric,errors=\"ignore\",downcast=\"float\")"
   ]
  },
  {
   "cell_type": "code",
   "execution_count": 50,
   "id": "7bf9d9af-f59d-4e74-91d7-30c85d98e3f0",
   "metadata": {},
   "outputs": [],
   "source": [
    "nested_dictionary_frames[\"qb\"][3]"
   ]
  }
 ],
 "metadata": {
  "kernelspec": {
   "display_name": "Python [conda env:data_science]",
   "language": "python",
   "name": "conda-env-data_science-py"
  },
  "language_info": {
   "codemirror_mode": {
    "name": "ipython",
    "version": 3
   },
   "file_extension": ".py",
   "mimetype": "text/x-python",
   "name": "python",
   "nbconvert_exporter": "python",
   "pygments_lexer": "ipython3",
   "version": "3.9.12"
  }
 },
 "nbformat": 4,
 "nbformat_minor": 5
}
