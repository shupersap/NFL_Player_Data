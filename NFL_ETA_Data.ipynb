{
 "cells": [
  {
   "cell_type": "markdown",
   "id": "7772e20d",
   "metadata": {},
   "source": [
    "### create differing weekly dataframes for each position and each weekly with data for all players\n",
    "\n",
    "### set up to get data for each week, and for each position, reasses data types,make sure all data is still accurate\n",
    "### after all dataframe is set and ordered, transport to a storage system"
   ]
  },
  {
   "cell_type": "code",
   "execution_count": 1,
   "id": "052b5eca",
   "metadata": {},
   "outputs": [],
   "source": [
    "#import libraries\n",
    "from selenium import webdriver\n",
    "from selenium.webdriver.chrome.service import Service\n",
    "from webdriver_manager.chrome import ChromeDriverManager\n",
    "from selenium.webdriver.common.by import By\n",
    "import pandas as pd"
   ]
  },
  {
   "cell_type": "code",
   "execution_count": 2,
   "id": "b284b62d",
   "metadata": {},
   "outputs": [],
   "source": [
    "#start driver for Chrome\n",
    "driver = webdriver.Chrome(service=Service(ChromeDriverManager().install()))"
   ]
  },
  {
   "cell_type": "code",
   "execution_count": null,
   "id": "5c2d6044",
   "metadata": {},
   "outputs": [],
   "source": [
    "#Driver start on fantasy pro site\n",
    "driver.get(\"https://www.fantasypros.com/nfl/stats\")"
   ]
  },
  {
   "cell_type": "code",
   "execution_count": 13,
   "id": "8f20c826",
   "metadata": {},
   "outputs": [
    {
     "ename": "IndentationError",
     "evalue": "expected an indented block (792199753.py, line 5)",
     "output_type": "error",
     "traceback": [
      "\u001b[1;36m  Input \u001b[1;32mIn [13]\u001b[1;36m\u001b[0m\n\u001b[1;33m    driver.get(f\"https://www.fantasypros.com/nfl/stats/{}.php?week={}&range=week\")\u001b[0m\n\u001b[1;37m    ^\u001b[0m\n\u001b[1;31mIndentationError\u001b[0m\u001b[1;31m:\u001b[0m expected an indented block\n"
     ]
    }
   ],
   "source": [
    "#\n",
    "NFL_Roles=[\"qb\",\"rb\",\"wr\",\"te\",\"k\",\"dst\",\"dl\",\"lb\",\"db\"]\n",
    "for role in NFL_Roles:\n",
    "    for week in range(0,19):\n",
    "        driver.get(f\"https://www.fantasypros.com/nfl/stats/{role}.php?week={x}&range=week\")"
   ]
  },
  {
   "cell_type": "code",
   "execution_count": 5,
   "id": "56e1299b",
   "metadata": {},
   "outputs": [],
   "source": [
    "#Retrieve headers of website dataframe\n",
    "qb_header=driver.find_elements(By.XPATH,\"//tr[@class='tablesorter-header']//th\")"
   ]
  },
  {
   "cell_type": "code",
   "execution_count": 6,
   "id": "c1fb188f",
   "metadata": {
    "scrolled": true
   },
   "outputs": [],
   "source": [
    "#Obtain all player data presented\n",
    "table_data=driver.find_elements(By.XPATH,\"//table[@id='data']//tbody//td\")"
   ]
  },
  {
   "cell_type": "code",
   "execution_count": 7,
   "id": "583d09d5",
   "metadata": {},
   "outputs": [
    {
     "data": {
      "text/plain": [
       "['RANK',\n",
       " 'PLAYER',\n",
       " 'CMP',\n",
       " 'ATT',\n",
       " 'PCT',\n",
       " 'YDS',\n",
       " 'Y/A',\n",
       " 'TD',\n",
       " 'INT',\n",
       " 'SACKS',\n",
       " 'ATT',\n",
       " 'YDS',\n",
       " 'TD',\n",
       " 'FL',\n",
       " 'G',\n",
       " 'FPTS',\n",
       " 'FPTS/G',\n",
       " 'ROST']"
      ]
     },
     "execution_count": 7,
     "metadata": {},
     "output_type": "execute_result"
    }
   ],
   "source": [
    "#append columns tags to list\n",
    "qb_columns=[]\n",
    "for items in qb_header:\n",
    "    qb_columns.append(items.text)\n",
    "qb_columns"
   ]
  },
  {
   "cell_type": "code",
   "execution_count": 8,
   "id": "f3dc1e1f",
   "metadata": {},
   "outputs": [],
   "source": [
    "#append table data to a list\n",
    "qb_data=[]\n",
    "for info in table_data:\n",
    "    qb_data.append(info.text)"
   ]
  },
  {
   "cell_type": "code",
   "execution_count": 9,
   "id": "b4fce463",
   "metadata": {},
   "outputs": [],
   "source": [
    "chunk_size = len(qb_columns)\n",
    "chunks = [qb_data[x:x + chunk_size] for x in range(0, len(qb_data), chunk_size)]"
   ]
  },
  {
   "cell_type": "code",
   "execution_count": 10,
   "id": "5f4b2b3b",
   "metadata": {},
   "outputs": [],
   "source": [
    "qb_weekly_df = pd.DataFrame(chunks,columns=qb_columns)"
   ]
  },
  {
   "cell_type": "code",
   "execution_count": 11,
   "id": "5eb7415e",
   "metadata": {},
   "outputs": [],
   "source": [
    "qb_weekly_df.reset_index(drop=True,inplace=True)"
   ]
  },
  {
   "cell_type": "code",
   "execution_count": null,
   "id": "799b8ac1",
   "metadata": {},
   "outputs": [],
   "source": []
  }
 ],
 "metadata": {
  "kernelspec": {
   "display_name": "Python [conda env:data_science]",
   "language": "python",
   "name": "conda-env-data_science-py"
  },
  "language_info": {
   "codemirror_mode": {
    "name": "ipython",
    "version": 3
   },
   "file_extension": ".py",
   "mimetype": "text/x-python",
   "name": "python",
   "nbconvert_exporter": "python",
   "pygments_lexer": "ipython3",
   "version": "3.9.12"
  }
 },
 "nbformat": 4,
 "nbformat_minor": 5
}
