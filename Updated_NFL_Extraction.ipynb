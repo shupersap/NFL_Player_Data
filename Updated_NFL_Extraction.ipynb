{
 "cells": [
  {
   "cell_type": "code",
   "execution_count": 1,
   "id": "bd63f09f-0729-43f0-9381-f0194f365c2a",
   "metadata": {},
   "outputs": [],
   "source": [
    "#import libraries\n",
    "import pandas as pd\n",
    "import os"
   ]
  },
  {
   "cell_type": "code",
   "execution_count": 2,
   "id": "9c1f89ac-0b0a-4e79-a2ce-789d3768fcb1",
   "metadata": {},
   "outputs": [],
   "source": [
    "NFL_Roles=[\"qb\",\"rb\",\"wr\",\"te\",\"k\",\"dst\",\"dl\",\"lb\",\"db\"]\n",
    "nested_dictionary_frame={}\n",
    "column_labels={}\n",
    "for year in range (2018,2024):\n",
    "    nested_dictionary_frame[str(year)]= {}\n",
    "    for role in NFL_Roles:\n",
    "        nested_dictionary_frame[str(year)][role] = {}\n",
    "        for week in range(1, 19):\n",
    "            nfl_stats_loop = f\"https://www.fantasypros.com/nfl/stats/{role}.php?week={week}&range=week&scoring=PPR&year={year}\"\n",
    "\n",
    "            if role in [\"qb\", \"rb\", \"wr\", \"te\"]:\n",
    "                data = pd.read_html(nfl_stats_loop, header=1)\n",
    "            else:\n",
    "                data = pd.read_html(nfl_stats_loop, header=0)\n",
    "\n",
    "            if week == 1:\n",
    "                column_labels[role] = data[0].columns.tolist()\n",
    "\n",
    "            nested_dictionary_frame[str(year)][role][str(week)] = data[0]\n",
    "            nested_dictionary_frame[str(year)][role][str(week)][\"Team\"]=nested_dictionary_frame[str(year)][role][str(week)][\"Player\"].str.extract(r'\\((\\w+)\\)')\n",
    "            nested_dictionary_frame[str(year)][role][str(week)][\"Player\"]=nested_dictionary_frame[str(year)][role][str(week)][\"Player\"].replace(r' \\(\\w+\\)', '', regex=True)\n",
    "            nested_dictionary_frame[str(year)][role][str(week)][\"Week\"]= week\n",
    "            nested_dictionary_frame[str(year)][role][str(week)][\"Year\"]= year\n",
    "            nested_dictionary_frame[str(year)][role][str(week)]=pd.DataFrame(nested_dictionary_frame[str(year)][role][str(week)].reset_index(drop=True))"
   ]
  },
  {
   "cell_type": "code",
   "execution_count": 4,
   "id": "09a73811",
   "metadata": {},
   "outputs": [],
   "source": [
    "for year in nested_dictionary_frame:\n",
    "    year_folder = f\"{year}_football_data\"\n",
    "    os.makedirs(year_folder, exist_ok=True)\n",
    "    \n",
    "    for role in nested_dictionary_frame[year]:\n",
    "        role_folder = os.path.join(year_folder, f\"{role}_data\")\n",
    "        os.makedirs(role_folder, exist_ok=True)\n",
    "\n",
    "        for week in nested_dictionary_frame[year][role]:\n",
    "            df = nested_dictionary_frame[year][role][week]\n",
    "            table_name = f\"{role}_{week}\"\n",
    "            file_path = os.path.join(role_folder, f\"{table_name}.csv\")\n",
    "            df.to_csv(file_path, index=False)"
   ]
  },
  {
   "cell_type": "code",
   "execution_count": null,
   "id": "766665b5",
   "metadata": {},
   "outputs": [],
   "source": []
  }
 ],
 "metadata": {
  "kernelspec": {
   "display_name": "PythonData",
   "language": "python",
   "name": "pythondata"
  },
  "language_info": {
   "codemirror_mode": {
    "name": "ipython",
    "version": 3
   },
   "file_extension": ".py",
   "mimetype": "text/x-python",
   "name": "python",
   "nbconvert_exporter": "python",
   "pygments_lexer": "ipython3",
   "version": "3.9.12"
  }
 },
 "nbformat": 4,
 "nbformat_minor": 5
}
