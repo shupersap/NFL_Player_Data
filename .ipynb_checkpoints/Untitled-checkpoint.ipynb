{
 "cells": [
  {
   "cell_type": "code",
   "execution_count": 12,
   "id": "7c1fa8d6-38f3-4f5f-993d-2e55692332b6",
   "metadata": {},
   "outputs": [],
   "source": [
    "from selenium.webdriver.common.by import By\n",
    "from selenium.webdriver.support.ui import WebDriverWait\n",
    "from selenium.webdriver.support import expected_conditions as EC\n",
    "from concurrent.futures import ThreadPoolExecutor\n",
    "from selenium.webdriver.chrome.service import Service\n",
    "from selenium import webdriver\n",
    "import pandas as pd\n",
    "from webdriver_manager.chrome import ChromeDriverManager"
   ]
  },
  {
   "cell_type": "code",
   "execution_count": 13,
   "id": "a37fd723-3aeb-41e9-9f02-22ebbc84fbce",
   "metadata": {},
   "outputs": [],
   "source": [
    "driver = webdriver.Chrome(service=Service(ChromeDriverManager().install()))"
   ]
  },
  {
   "cell_type": "code",
   "execution_count": null,
   "id": "f271adb7-7440-4ba7-97b5-58219a6a419e",
   "metadata": {},
   "outputs": [],
   "source": [
    "NFL_Roles = [\"qb\", \"rb\", \"wr\", \"te\", \"k\", \"dst\", \"dl\", \"lb\", \"db\"]\n",
    "nested_dictionary_frames = {}\n",
    "\n",
    "def scrape_data(role, week):\n",
    "    driver.get(f\"https://www.fantasypros.com/nfl/stats/{role}.php?week={week}&range=week&scoring=PPR\")\n",
    "    \n",
    "    # Extract data from the table\n",
    "    table_data = driver.find_elements(By.XPATH, \"//table[@id='data']//tbody//td\")\n",
    "    gen_data = [info.text for info in table_data]\n",
    "    row_data = [gen_data[x:x + Label_Size] for x in range(0, len(gen_data), Label_Size)]\n",
    "    \n",
    "    # Return a DataFrame with the scraped data and the week as a column\n",
    "    return pd.DataFrame(row_data, columns=NFL_Labels).assign(week=week)\n",
    "\n",
    "# Use ThreadPoolExecutor to parallelize the scraping process\n",
    "with ThreadPoolExecutor() as executor:\n",
    "    for role in NFL_Roles:\n",
    "        header = driver.find_elements(By.XPATH, \"//tr[@class='tablesorter-header']//th\")\n",
    "        NFL_Labels = [label.text for label in header]\n",
    "        Label_Size = len(NFL_Labels)\n",
    "\n",
    "        # Use ThreadPoolExecutor to parallelize scraping for different weeks\n",
    "        nested_dictionary_frames[role] = list(executor.map(lambda w: scrape_data(role, w), range(1, 13)))"
   ]
  },
  {
   "cell_type": "code",
   "execution_count": null,
   "id": "663abc17-9b0f-464b-84e7-d8a507066122",
   "metadata": {},
   "outputs": [],
   "source": []
  }
 ],
 "metadata": {
  "kernelspec": {
   "display_name": "Python [conda env:data_science] *",
   "language": "python",
   "name": "conda-env-data_science-py"
  },
  "language_info": {
   "codemirror_mode": {
    "name": "ipython",
    "version": 3
   },
   "file_extension": ".py",
   "mimetype": "text/x-python",
   "name": "python",
   "nbconvert_exporter": "python",
   "pygments_lexer": "ipython3",
   "version": "3.9.12"
  }
 },
 "nbformat": 4,
 "nbformat_minor": 5
}
